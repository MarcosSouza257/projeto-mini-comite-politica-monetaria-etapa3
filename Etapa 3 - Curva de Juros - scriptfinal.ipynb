{
 "cells": [
  {
   "cell_type": "markdown",
   "id": "c9ec7a18",
   "metadata": {},
   "source": [
    "# Parte 1: Estimativa de juros para a curva Pré-fixada"
   ]
  },
  {
   "cell_type": "markdown",
   "id": "caa7a578",
   "metadata": {},
   "source": [
    "\n",
    "## Instalar o pacote"
   ]
  },
  {
   "cell_type": "code",
   "execution_count": 1,
   "id": "f168a10f",
   "metadata": {},
   "outputs": [
    {
     "name": "stdout",
     "output_type": "stream",
     "text": [
      "Requirement already satisfied: pyettj in d:\\anaconda oficial\\lib\\site-packages (0.3.1)\n",
      "Requirement already satisfied: beautifulsoup4<5.0.0,>=4.9.3 in d:\\anaconda oficial\\lib\\site-packages (from pyettj) (4.12.2)\n",
      "Requirement already satisfied: bizdays<0.4.0,>=0.3.0 in d:\\anaconda oficial\\lib\\site-packages (from pyettj) (0.3.0)\n",
      "Requirement already satisfied: lxml<5.0.0,>=4.6.3 in d:\\anaconda oficial\\lib\\site-packages (from pyettj) (4.9.3)\n",
      "Requirement already satisfied: matplotlib<4.0.0,>=3.4.2 in d:\\anaconda oficial\\lib\\site-packages (from pyettj) (3.7.2)\n",
      "Requirement already satisfied: nelson-siegel-svensson<0.6.0,>=0.5.0 in d:\\anaconda oficial\\lib\\site-packages (from pyettj) (0.5.0)\n",
      "Requirement already satisfied: pandas<2.0.0,>=1.2.4 in d:\\anaconda oficial\\lib\\site-packages (from pyettj) (1.5.3)\n",
      "Requirement already satisfied: requests<3.0.0,>=2.25.1 in d:\\anaconda oficial\\lib\\site-packages (from pyettj) (2.31.0)\n",
      "Requirement already satisfied: soupsieve>1.2 in d:\\anaconda oficial\\lib\\site-packages (from beautifulsoup4<5.0.0,>=4.9.3->pyettj) (2.4)\n",
      "Requirement already satisfied: contourpy>=1.0.1 in d:\\anaconda oficial\\lib\\site-packages (from matplotlib<4.0.0,>=3.4.2->pyettj) (1.0.5)\n",
      "Requirement already satisfied: cycler>=0.10 in d:\\anaconda oficial\\lib\\site-packages (from matplotlib<4.0.0,>=3.4.2->pyettj) (0.11.0)\n",
      "Requirement already satisfied: fonttools>=4.22.0 in d:\\anaconda oficial\\lib\\site-packages (from matplotlib<4.0.0,>=3.4.2->pyettj) (4.25.0)\n",
      "Requirement already satisfied: kiwisolver>=1.0.1 in d:\\anaconda oficial\\lib\\site-packages (from matplotlib<4.0.0,>=3.4.2->pyettj) (1.4.4)\n",
      "Requirement already satisfied: numpy>=1.20 in d:\\anaconda oficial\\lib\\site-packages (from matplotlib<4.0.0,>=3.4.2->pyettj) (1.24.3)\n",
      "Requirement already satisfied: packaging>=20.0 in d:\\anaconda oficial\\lib\\site-packages (from matplotlib<4.0.0,>=3.4.2->pyettj) (23.1)\n",
      "Requirement already satisfied: pillow>=6.2.0 in d:\\anaconda oficial\\lib\\site-packages (from matplotlib<4.0.0,>=3.4.2->pyettj) (9.4.0)\n",
      "Requirement already satisfied: pyparsing<3.1,>=2.3.1 in d:\\anaconda oficial\\lib\\site-packages (from matplotlib<4.0.0,>=3.4.2->pyettj) (3.0.9)\n",
      "Requirement already satisfied: python-dateutil>=2.7 in d:\\anaconda oficial\\lib\\site-packages (from matplotlib<4.0.0,>=3.4.2->pyettj) (2.8.2)\n",
      "Requirement already satisfied: Click>=8.0 in d:\\anaconda oficial\\lib\\site-packages (from nelson-siegel-svensson<0.6.0,>=0.5.0->pyettj) (8.0.4)\n",
      "Requirement already satisfied: scipy>=1.7 in d:\\anaconda oficial\\lib\\site-packages (from nelson-siegel-svensson<0.6.0,>=0.5.0->pyettj) (1.11.1)\n",
      "Requirement already satisfied: pytz>=2020.1 in d:\\anaconda oficial\\lib\\site-packages (from pandas<2.0.0,>=1.2.4->pyettj) (2023.3.post1)\n",
      "Requirement already satisfied: charset-normalizer<4,>=2 in d:\\anaconda oficial\\lib\\site-packages (from requests<3.0.0,>=2.25.1->pyettj) (2.0.4)\n",
      "Requirement already satisfied: idna<4,>=2.5 in d:\\anaconda oficial\\lib\\site-packages (from requests<3.0.0,>=2.25.1->pyettj) (3.4)\n",
      "Requirement already satisfied: urllib3<3,>=1.21.1 in d:\\anaconda oficial\\lib\\site-packages (from requests<3.0.0,>=2.25.1->pyettj) (1.26.16)\n",
      "Requirement already satisfied: certifi>=2017.4.17 in d:\\anaconda oficial\\lib\\site-packages (from requests<3.0.0,>=2.25.1->pyettj) (2023.7.22)\n",
      "Requirement already satisfied: colorama in d:\\anaconda oficial\\lib\\site-packages (from Click>=8.0->nelson-siegel-svensson<0.6.0,>=0.5.0->pyettj) (0.4.6)\n",
      "Requirement already satisfied: six>=1.5 in d:\\anaconda oficial\\lib\\site-packages (from python-dateutil>=2.7->matplotlib<4.0.0,>=3.4.2->pyettj) (1.16.0)\n"
     ]
    }
   ],
   "source": [
    "#caso não tenha o pacote, execute este comando para instalá-la. Caso já tenha, passe para a etapa seguinte\n",
    "!pip install pyettj"
   ]
  },
  {
   "cell_type": "markdown",
   "id": "3a1a85bf",
   "metadata": {},
   "source": [
    "## Gerar a curva\n",
    "Aqui, vocês irão pegar a primeira data disponível do ano em que lhes foram designados.\n",
    "Por exemplo, Grupo 9 ficou com o período a partir de 2014. Então ele irá gerar buscar o primeiro dia útil de 2014 para gerar a curva, ou seja, dia 02/01/2014."
   ]
  },
  {
   "cell_type": "code",
   "execution_count": 2,
   "id": "39fa89bc",
   "metadata": {},
   "outputs": [
    {
     "name": "stdout",
     "output_type": "stream",
     "text": [
      "pyettj 0.3.1\n"
     ]
    }
   ],
   "source": [
    "#Após instalar a biblioteca, execute o comando a seguir\n",
    "import pyettj.ettj as ettj"
   ]
  },
  {
   "cell_type": "markdown",
   "id": "3a7b32d2",
   "metadata": {},
   "source": [
    "Para caputar todos os dados disponíveis, basta informar a data:\n"
   ]
  },
  {
   "cell_type": "code",
   "execution_count": 3,
   "id": "9ebf7acb",
   "metadata": {},
   "outputs": [
    {
     "name": "stdout",
     "output_type": "stream",
     "text": [
      "Curvas capturadas em 5.24 segundos.\n"
     ]
    }
   ],
   "source": [
    "data = '02/01/2018'\n",
    "df = ettj.get_ettj(data)"
   ]
  },
  {
   "cell_type": "code",
   "execution_count": 4,
   "id": "ca9f9591",
   "metadata": {},
   "outputs": [
    {
     "data": {
      "text/html": [
       "<div>\n",
       "<style scoped>\n",
       "    .dataframe tbody tr th:only-of-type {\n",
       "        vertical-align: middle;\n",
       "    }\n",
       "\n",
       "    .dataframe tbody tr th {\n",
       "        vertical-align: top;\n",
       "    }\n",
       "\n",
       "    .dataframe thead th {\n",
       "        text-align: right;\n",
       "    }\n",
       "</style>\n",
       "<table border=\"1\" class=\"dataframe\">\n",
       "  <thead>\n",
       "    <tr style=\"text-align: right;\">\n",
       "      <th></th>\n",
       "      <th>Dias Corridos</th>\n",
       "      <th>DI x pré 252</th>\n",
       "      <th>DI x pré 360</th>\n",
       "      <th>Selic x pré 252</th>\n",
       "      <th>DI x TR 252</th>\n",
       "      <th>...</th>\n",
       "      <th>Ajuste cupom 360</th>\n",
       "      <th>Real x iene preÃ§o</th>\n",
       "      <th>Spread Libor Euro x DÃ³lar taxa</th>\n",
       "      <th>Libor 360</th>\n",
       "      <th>Data</th>\n",
       "    </tr>\n",
       "  </thead>\n",
       "  <tbody>\n",
       "    <tr>\n",
       "      <th>0</th>\n",
       "      <td>1</td>\n",
       "      <td>6.89000</td>\n",
       "      <td>0.00000</td>\n",
       "      <td>6.90000</td>\n",
       "      <td>6.88000</td>\n",
       "      <td>...</td>\n",
       "      <td>431.32000</td>\n",
       "      <td>0.02912</td>\n",
       "      <td>-1.98000</td>\n",
       "      <td>1.56400</td>\n",
       "      <td>02/01/2018</td>\n",
       "    </tr>\n",
       "    <tr>\n",
       "      <th>0</th>\n",
       "      <td>13</td>\n",
       "      <td>6.90000</td>\n",
       "      <td>6.82000</td>\n",
       "      <td>6.91000</td>\n",
       "      <td>6.88000</td>\n",
       "      <td>...</td>\n",
       "      <td>38.89000</td>\n",
       "      <td>0.02914</td>\n",
       "      <td>-1.98000</td>\n",
       "      <td>1.56400</td>\n",
       "      <td>02/01/2018</td>\n",
       "    </tr>\n",
       "    <tr>\n",
       "      <th>0</th>\n",
       "      <td>15</td>\n",
       "      <td>6.90000</td>\n",
       "      <td>7.23000</td>\n",
       "      <td>6.91000</td>\n",
       "      <td>6.88000</td>\n",
       "      <td>...</td>\n",
       "      <td>34.95000</td>\n",
       "      <td>0.02914</td>\n",
       "      <td>-1.98000</td>\n",
       "      <td>1.56400</td>\n",
       "      <td>02/01/2018</td>\n",
       "    </tr>\n",
       "    <tr>\n",
       "      <th>0</th>\n",
       "      <td>17</td>\n",
       "      <td>6.90000</td>\n",
       "      <td>7.56000</td>\n",
       "      <td>6.91000</td>\n",
       "      <td>6.88000</td>\n",
       "      <td>...</td>\n",
       "      <td>31.93000</td>\n",
       "      <td>0.02915</td>\n",
       "      <td>-1.98000</td>\n",
       "      <td>1.56400</td>\n",
       "      <td>02/01/2018</td>\n",
       "    </tr>\n",
       "    <tr>\n",
       "      <th>0</th>\n",
       "      <td>24</td>\n",
       "      <td>6.90000</td>\n",
       "      <td>7.41000</td>\n",
       "      <td>6.91000</td>\n",
       "      <td>6.88000</td>\n",
       "      <td>...</td>\n",
       "      <td>24.56000</td>\n",
       "      <td>0.02916</td>\n",
       "      <td>-1.98000</td>\n",
       "      <td>1.56400</td>\n",
       "      <td>02/01/2018</td>\n",
       "    </tr>\n",
       "    <tr>\n",
       "      <th>...</th>\n",
       "      <td>...</td>\n",
       "      <td>...</td>\n",
       "      <td>...</td>\n",
       "      <td>...</td>\n",
       "      <td>...</td>\n",
       "      <td>...</td>\n",
       "      <td>...</td>\n",
       "      <td>...</td>\n",
       "      <td>...</td>\n",
       "      <td>...</td>\n",
       "      <td>...</td>\n",
       "    </tr>\n",
       "    <tr>\n",
       "      <th>0</th>\n",
       "      <td>11367</td>\n",
       "      <td>11.00000</td>\n",
       "      <td>10.80000</td>\n",
       "      <td>11.02000</td>\n",
       "      <td>9.10000</td>\n",
       "      <td>...</td>\n",
       "      <td>6.87000</td>\n",
       "      <td>0.67964</td>\n",
       "      <td>-1.22000</td>\n",
       "      <td>2.58000</td>\n",
       "      <td>02/01/2018</td>\n",
       "    </tr>\n",
       "    <tr>\n",
       "      <th>0</th>\n",
       "      <td>11549</td>\n",
       "      <td>11.00000</td>\n",
       "      <td>10.80000</td>\n",
       "      <td>11.02000</td>\n",
       "      <td>9.10000</td>\n",
       "      <td>...</td>\n",
       "      <td>6.94000</td>\n",
       "      <td>0.72590</td>\n",
       "      <td>-1.22000</td>\n",
       "      <td>2.58000</td>\n",
       "      <td>02/01/2018</td>\n",
       "    </tr>\n",
       "    <tr>\n",
       "      <th>0</th>\n",
       "      <td>11732</td>\n",
       "      <td>11.01000</td>\n",
       "      <td>10.80000</td>\n",
       "      <td>11.02000</td>\n",
       "      <td>9.10000</td>\n",
       "      <td>...</td>\n",
       "      <td>7.01000</td>\n",
       "      <td>0.77593</td>\n",
       "      <td>-1.22000</td>\n",
       "      <td>2.58000</td>\n",
       "      <td>02/01/2018</td>\n",
       "    </tr>\n",
       "    <tr>\n",
       "      <th>0</th>\n",
       "      <td>11913</td>\n",
       "      <td>11.01000</td>\n",
       "      <td>10.81000</td>\n",
       "      <td>11.03000</td>\n",
       "      <td>9.10000</td>\n",
       "      <td>...</td>\n",
       "      <td>7.08000</td>\n",
       "      <td>0.83023</td>\n",
       "      <td>-1.22000</td>\n",
       "      <td>2.58000</td>\n",
       "      <td>02/01/2018</td>\n",
       "    </tr>\n",
       "    <tr>\n",
       "      <th>0</th>\n",
       "      <td>13649</td>\n",
       "      <td>11.03000</td>\n",
       "      <td>10.82000</td>\n",
       "      <td>11.05000</td>\n",
       "      <td>9.11000</td>\n",
       "      <td>...</td>\n",
       "      <td>7.81000</td>\n",
       "      <td>1.70044</td>\n",
       "      <td>-1.22000</td>\n",
       "      <td>2.58000</td>\n",
       "      <td>02/01/2018</td>\n",
       "    </tr>\n",
       "  </tbody>\n",
       "</table>\n",
       "<p>318 rows × 29 columns</p>\n",
       "</div>"
      ],
      "text/plain": [
       "    Dias Corridos  DI x pré 252  DI x pré 360  Selic x pré 252  DI x TR 252  ...  Ajuste cupom 360  Real x iene preÃ§o  Spread Libor Euro x DÃ³lar taxa  Libor 360        Data\n",
       "0               1       6.89000       0.00000          6.90000      6.88000  ...         431.32000             0.02912                         -1.98000    1.56400  02/01/2018\n",
       "0              13       6.90000       6.82000          6.91000      6.88000  ...          38.89000             0.02914                         -1.98000    1.56400  02/01/2018\n",
       "0              15       6.90000       7.23000          6.91000      6.88000  ...          34.95000             0.02914                         -1.98000    1.56400  02/01/2018\n",
       "0              17       6.90000       7.56000          6.91000      6.88000  ...          31.93000             0.02915                         -1.98000    1.56400  02/01/2018\n",
       "0              24       6.90000       7.41000          6.91000      6.88000  ...          24.56000             0.02916                         -1.98000    1.56400  02/01/2018\n",
       "..            ...           ...           ...              ...          ...  ...               ...                 ...                              ...        ...         ...\n",
       "0           11367      11.00000      10.80000         11.02000      9.10000  ...           6.87000             0.67964                         -1.22000    2.58000  02/01/2018\n",
       "0           11549      11.00000      10.80000         11.02000      9.10000  ...           6.94000             0.72590                         -1.22000    2.58000  02/01/2018\n",
       "0           11732      11.01000      10.80000         11.02000      9.10000  ...           7.01000             0.77593                         -1.22000    2.58000  02/01/2018\n",
       "0           11913      11.01000      10.81000         11.03000      9.10000  ...           7.08000             0.83023                         -1.22000    2.58000  02/01/2018\n",
       "0           13649      11.03000      10.82000         11.05000      9.11000  ...           7.81000             1.70044                         -1.22000    2.58000  02/01/2018\n",
       "\n",
       "[318 rows x 29 columns]"
      ]
     },
     "execution_count": 4,
     "metadata": {},
     "output_type": "execute_result"
    }
   ],
   "source": [
    "#Verifica o data frame. Nós iremos buscar a primeira coluna após os dias corridos. Ou seja, o DI pré 252\n",
    "df"
   ]
  },
  {
   "cell_type": "code",
   "execution_count": 6,
   "id": "f3ab9be6",
   "metadata": {
    "scrolled": false
   },
   "outputs": [
    {
     "data": {
      "text/plain": [
       "<Figure size 640x480 with 0 Axes>"
      ]
     },
     "metadata": {},
     "output_type": "display_data"
    },
    {
     "data": {
      "image/png": "[encoded data removed]",
      "text/plain": [
       "<Figure size 640x480 with 1 Axes>"
      ]
     },
     "metadata": {},
     "output_type": "display_data"
    }
   ],
   "source": [
    "#é mais seguro trazer o nome da coluna para facilitar a criação da curva, então\n",
    "curva = \"DI x pré 252\"\n",
    "\n",
    "#Aqui a curva será criada.\n",
    "ettj.plot_ettj(df, curva, data)"
   ]
  },
  {
   "cell_type": "code",
   "execution_count": null,
   "id": "e591db54",
   "metadata": {},
   "outputs": [],
   "source": []
  }
 ],
 "metadata": {
  "kernelspec": {
   "display_name": "Python 3 (ipykernel)",
   "language": "python",
   "name": "python3"
  },
  "language_info": {
   "codemirror_mode": {
    "name": "ipython",
    "version": 3
   },
   "file_extension": ".py",
   "mimetype": "text/x-python",
   "name": "python",
   "nbconvert_exporter": "python",
   "pygments_lexer": "ipython3",
   "version": "3.11.5"
  }
 },
 "nbformat": 4,
 "nbformat_minor": 5
}
