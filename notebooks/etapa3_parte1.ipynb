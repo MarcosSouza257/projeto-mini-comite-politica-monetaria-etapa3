{
 "cells": [
  {
   "cell_type": "markdown",
   "id": "c9ec7a18",
   "metadata": {},
   "source": [
    "# Parte 1: Estimativa de juros para a curva Pré-fixada"
   ]
  },
  {
   "cell_type": "markdown",
   "id": "caa7a578",
   "metadata": {},
   "source": [
    "\n",
    "## Instalar o pacote"
   ]
  },
  {
   "cell_type": "code",
   "execution_count": 6,
   "id": "f168a10f",
   "metadata": {},
   "outputs": [
    {
     "name": "stdout",
     "output_type": "stream",
     "text": [
      "Collecting bizdays\n",
      "  Using cached bizdays-1.0.16-py3-none-any.whl.metadata (2.2 kB)\n",
      "Requirement already satisfied: pandas<3,>=2 in c:\\users\\marco\\anaconda3\\envs\\estudo\\lib\\site-packages (from bizdays) (2.2.2)\n",
      "Requirement already satisfied: pandas-market-calendars<5,>=4 in c:\\users\\marco\\anaconda3\\envs\\estudo\\lib\\site-packages (from bizdays) (4.6.1)\n",
      "Requirement already satisfied: numpy>=1.22.4 in c:\\users\\marco\\anaconda3\\envs\\estudo\\lib\\site-packages (from pandas<3,>=2->bizdays) (1.26.4)\n",
      "Requirement already satisfied: python-dateutil>=2.8.2 in c:\\users\\marco\\anaconda3\\envs\\estudo\\lib\\site-packages (from pandas<3,>=2->bizdays) (2.9.0.post0)\n",
      "Requirement already satisfied: pytz>=2020.1 in c:\\users\\marco\\anaconda3\\envs\\estudo\\lib\\site-packages (from pandas<3,>=2->bizdays) (2024.1)\n",
      "Requirement already satisfied: tzdata>=2022.7 in c:\\users\\marco\\anaconda3\\envs\\estudo\\lib\\site-packages (from pandas<3,>=2->bizdays) (2023.3)\n",
      "Requirement already satisfied: exchange-calendars>=3.3 in c:\\users\\marco\\anaconda3\\envs\\estudo\\lib\\site-packages (from pandas-market-calendars<5,>=4->bizdays) (4.5.6)\n",
      "Requirement already satisfied: pyluach in c:\\users\\marco\\anaconda3\\envs\\estudo\\lib\\site-packages (from exchange-calendars>=3.3->pandas-market-calendars<5,>=4->bizdays) (2.3.0)\n",
      "Requirement already satisfied: toolz in c:\\users\\marco\\anaconda3\\envs\\estudo\\lib\\site-packages (from exchange-calendars>=3.3->pandas-market-calendars<5,>=4->bizdays) (1.1.0)\n",
      "Requirement already satisfied: korean-lunar-calendar in c:\\users\\marco\\anaconda3\\envs\\estudo\\lib\\site-packages (from exchange-calendars>=3.3->pandas-market-calendars<5,>=4->bizdays) (0.3.1)\n",
      "Requirement already satisfied: six>=1.5 in c:\\users\\marco\\anaconda3\\envs\\estudo\\lib\\site-packages (from python-dateutil>=2.8.2->pandas<3,>=2->bizdays) (1.16.0)\n",
      "Using cached bizdays-1.0.16-py3-none-any.whl (13 kB)\n",
      "Installing collected packages: bizdays\n",
      "Successfully installed bizdays-1.0.16\n"
     ]
    }
   ],
   "source": [
    "#caso não tenha o pacote, execute este comando para instalá-la. Caso já tenha, passe para a etapa seguinte\n",
    "#!pip install pyettj bizdays\n",
    "\n",
    "!pip install bizdays"
   ]
  },
  {
   "cell_type": "markdown",
   "id": "3a1a85bf",
   "metadata": {},
   "source": [
    "## Gerar a curva\n",
    "Aqui, vocês irão pegar a primeira data disponível do ano em que lhes foram designados.\n",
    "Por exemplo, Grupo 9 ficou com o período a partir de 2014. Então ele irá gerar buscar o primeiro dia útil de 2014 para gerar a curva, ou seja, dia 02/01/2014."
   ]
  },
  {
   "cell_type": "code",
   "execution_count": 7,
   "id": "39fa89bc",
   "metadata": {},
   "outputs": [
    {
     "name": "stdout",
     "output_type": "stream",
     "text": [
      "pyettj 0.3.3\n"
     ]
    }
   ],
   "source": [
    "#Após instalar a biblioteca, execute o comando a seguir\n",
    "import pyettj.ettj as ettj"
   ]
  },
  {
   "cell_type": "markdown",
   "id": "3a7b32d2",
   "metadata": {},
   "source": [
    "Para caputar todos os dados disponíveis, basta informar a data:\n"
   ]
  },
  {
   "cell_type": "code",
   "execution_count": 9,
   "id": "9ebf7acb",
   "metadata": {},
   "outputs": [
    {
     "name": "stdout",
     "output_type": "stream",
     "text": [
      "Curvas capturadas em 3.94 segundos.\n"
     ]
    }
   ],
   "source": [
    "data = '02/01/2008'\n",
    "df = ettj.get_ettj(data)"
   ]
  },
  {
   "cell_type": "code",
   "execution_count": 10,
   "id": "ca9f9591",
   "metadata": {},
   "outputs": [
    {
     "data": {
      "text/html": [
       "<div>\n",
       "<style scoped>\n",
       "    .dataframe tbody tr th:only-of-type {\n",
       "        vertical-align: middle;\n",
       "    }\n",
       "\n",
       "    .dataframe tbody tr th {\n",
       "        vertical-align: top;\n",
       "    }\n",
       "\n",
       "    .dataframe thead th {\n",
       "        text-align: right;\n",
       "    }\n",
       "</style>\n",
       "<table border=\"1\" class=\"dataframe\">\n",
       "  <thead>\n",
       "    <tr style=\"text-align: right;\">\n",
       "      <th></th>\n",
       "      <th>Dias Corridos</th>\n",
       "      <th>DI x pré 252</th>\n",
       "      <th>DI x pré 360</th>\n",
       "      <th>Selic x pré 252</th>\n",
       "      <th>DI x TR 252</th>\n",
       "      <th>...</th>\n",
       "      <th>Ajuste pré 360</th>\n",
       "      <th>Ajuste cupom 360</th>\n",
       "      <th>Real x iene preço</th>\n",
       "      <th>Spread Libor Euro x Dólar taxa</th>\n",
       "      <th>Data</th>\n",
       "    </tr>\n",
       "  </thead>\n",
       "  <tbody>\n",
       "    <tr>\n",
       "      <th>0</th>\n",
       "      <td>1</td>\n",
       "      <td>11.09000</td>\n",
       "      <td>10.99000</td>\n",
       "      <td>11.18000</td>\n",
       "      <td>10.03000</td>\n",
       "      <td>...</td>\n",
       "      <td>10.99000</td>\n",
       "      <td>-3.26000</td>\n",
       "      <td>0.01585</td>\n",
       "      <td>-0.34000</td>\n",
       "      <td>02/01/2008</td>\n",
       "    </tr>\n",
       "    <tr>\n",
       "      <th>0</th>\n",
       "      <td>13</td>\n",
       "      <td>11.14000</td>\n",
       "      <td>11.01000</td>\n",
       "      <td>11.14000</td>\n",
       "      <td>10.04000</td>\n",
       "      <td>...</td>\n",
       "      <td>11.01000</td>\n",
       "      <td>5.22000</td>\n",
       "      <td>0.01589</td>\n",
       "      <td>-0.34000</td>\n",
       "      <td>02/01/2008</td>\n",
       "    </tr>\n",
       "    <tr>\n",
       "      <th>0</th>\n",
       "      <td>29</td>\n",
       "      <td>11.14000</td>\n",
       "      <td>11.55000</td>\n",
       "      <td>11.14000</td>\n",
       "      <td>10.03000</td>\n",
       "      <td>...</td>\n",
       "      <td>11.55000</td>\n",
       "      <td>6.02000</td>\n",
       "      <td>0.01595</td>\n",
       "      <td>-0.34000</td>\n",
       "      <td>02/01/2008</td>\n",
       "    </tr>\n",
       "    <tr>\n",
       "      <th>0</th>\n",
       "      <td>30</td>\n",
       "      <td>11.14000</td>\n",
       "      <td>11.70000</td>\n",
       "      <td>11.14000</td>\n",
       "      <td>10.03000</td>\n",
       "      <td>...</td>\n",
       "      <td>11.70000</td>\n",
       "      <td>6.12000</td>\n",
       "      <td>0.01596</td>\n",
       "      <td>-0.34000</td>\n",
       "      <td>02/01/2008</td>\n",
       "    </tr>\n",
       "    <tr>\n",
       "      <th>0</th>\n",
       "      <td>44</td>\n",
       "      <td>11.15000</td>\n",
       "      <td>10.84000</td>\n",
       "      <td>11.15000</td>\n",
       "      <td>10.03000</td>\n",
       "      <td>...</td>\n",
       "      <td>10.84000</td>\n",
       "      <td>5.50000</td>\n",
       "      <td>0.01601</td>\n",
       "      <td>-0.23000</td>\n",
       "      <td>02/01/2008</td>\n",
       "    </tr>\n",
       "    <tr>\n",
       "      <th>...</th>\n",
       "      <td>...</td>\n",
       "      <td>...</td>\n",
       "      <td>...</td>\n",
       "      <td>...</td>\n",
       "      <td>...</td>\n",
       "      <td>...</td>\n",
       "      <td>...</td>\n",
       "      <td>...</td>\n",
       "      <td>...</td>\n",
       "      <td>...</td>\n",
       "      <td>...</td>\n",
       "    </tr>\n",
       "    <tr>\n",
       "      <th>0</th>\n",
       "      <td>3600</td>\n",
       "      <td>13.04000</td>\n",
       "      <td>12.81000</td>\n",
       "      <td>13.08000</td>\n",
       "      <td>10.11000</td>\n",
       "      <td>...</td>\n",
       "      <td>12.81000</td>\n",
       "      <td>6.20000</td>\n",
       "      <td>0.04603</td>\n",
       "      <td>0.03000</td>\n",
       "      <td>02/01/2008</td>\n",
       "    </tr>\n",
       "    <tr>\n",
       "      <th>0</th>\n",
       "      <td>3653</td>\n",
       "      <td>13.04000</td>\n",
       "      <td>12.80000</td>\n",
       "      <td>13.08000</td>\n",
       "      <td>10.11000</td>\n",
       "      <td>...</td>\n",
       "      <td>12.80000</td>\n",
       "      <td>6.24000</td>\n",
       "      <td>0.04670</td>\n",
       "      <td>0.03000</td>\n",
       "      <td>02/01/2008</td>\n",
       "    </tr>\n",
       "    <tr>\n",
       "      <th>0</th>\n",
       "      <td>4380</td>\n",
       "      <td>13.04000</td>\n",
       "      <td>12.80000</td>\n",
       "      <td>13.08000</td>\n",
       "      <td>10.06000</td>\n",
       "      <td>...</td>\n",
       "      <td>12.80000</td>\n",
       "      <td>6.70000</td>\n",
       "      <td>0.05827</td>\n",
       "      <td>0.01000</td>\n",
       "      <td>02/01/2008</td>\n",
       "    </tr>\n",
       "    <tr>\n",
       "      <th>0</th>\n",
       "      <td>5115</td>\n",
       "      <td>13.04000</td>\n",
       "      <td>12.79000</td>\n",
       "      <td>13.08000</td>\n",
       "      <td>10.04000</td>\n",
       "      <td>...</td>\n",
       "      <td>12.79000</td>\n",
       "      <td>7.23000</td>\n",
       "      <td>0.07144</td>\n",
       "      <td>-0.04000</td>\n",
       "      <td>02/01/2008</td>\n",
       "    </tr>\n",
       "    <tr>\n",
       "      <th>0</th>\n",
       "      <td>5580</td>\n",
       "      <td>13.04000</td>\n",
       "      <td>12.80000</td>\n",
       "      <td>13.08000</td>\n",
       "      <td>10.03000</td>\n",
       "      <td>...</td>\n",
       "      <td>12.80000</td>\n",
       "      <td>7.58000</td>\n",
       "      <td>0.08164</td>\n",
       "      <td>-0.07000</td>\n",
       "      <td>02/01/2008</td>\n",
       "    </tr>\n",
       "  </tbody>\n",
       "</table>\n",
       "<p>114 rows × 33 columns</p>\n",
       "</div>"
      ],
      "text/plain": [
       "    Dias Corridos  DI x pré 252  DI x pré 360  Selic x pré 252  DI x TR 252  ...  Ajuste pré 360  Ajuste cupom 360  Real x iene preço  Spread Libor Euro x Dólar taxa        Data\n",
       "0               1      11.09000      10.99000         11.18000     10.03000  ...        10.99000          -3.26000            0.01585                        -0.34000  02/01/2008\n",
       "0              13      11.14000      11.01000         11.14000     10.04000  ...        11.01000           5.22000            0.01589                        -0.34000  02/01/2008\n",
       "0              29      11.14000      11.55000         11.14000     10.03000  ...        11.55000           6.02000            0.01595                        -0.34000  02/01/2008\n",
       "0              30      11.14000      11.70000         11.14000     10.03000  ...        11.70000           6.12000            0.01596                        -0.34000  02/01/2008\n",
       "0              44      11.15000      10.84000         11.15000     10.03000  ...        10.84000           5.50000            0.01601                        -0.23000  02/01/2008\n",
       "..            ...           ...           ...              ...          ...  ...             ...               ...                ...                             ...         ...\n",
       "0            3600      13.04000      12.81000         13.08000     10.11000  ...        12.81000           6.20000            0.04603                         0.03000  02/01/2008\n",
       "0            3653      13.04000      12.80000         13.08000     10.11000  ...        12.80000           6.24000            0.04670                         0.03000  02/01/2008\n",
       "0            4380      13.04000      12.80000         13.08000     10.06000  ...        12.80000           6.70000            0.05827                         0.01000  02/01/2008\n",
       "0            5115      13.04000      12.79000         13.08000     10.04000  ...        12.79000           7.23000            0.07144                        -0.04000  02/01/2008\n",
       "0            5580      13.04000      12.80000         13.08000     10.03000  ...        12.80000           7.58000            0.08164                        -0.07000  02/01/2008\n",
       "\n",
       "[114 rows x 33 columns]"
      ]
     },
     "execution_count": 10,
     "metadata": {},
     "output_type": "execute_result"
    }
   ],
   "source": [
    "#Verifica o data frame. Nós iremos buscar a primeira coluna após os dias corridos. Ou seja, o DI pré 252\n",
    "df"
   ]
  },
  {
   "cell_type": "code",
   "execution_count": 11,
   "id": "f3ab9be6",
   "metadata": {
    "scrolled": false
   },
   "outputs": [
    {
     "data": {
      "text/plain": [
       "<Figure size 640x480 with 0 Axes>"
      ]
     },
     "metadata": {},
     "output_type": "display_data"
    },
    {
     "data": {
      "image/png": "[encoded data removed]",
      "text/plain": [
       "<Figure size 640x480 with 1 Axes>"
      ]
     },
     "metadata": {},
     "output_type": "display_data"
    }
   ],
   "source": [
    "#é mais seguro trazer o nome da coluna para facilitar a criação da curva, então\n",
    "curva = \"DI x pré 252\"\n",
    "\n",
    "#Aqui a curva será criada.\n",
    "ettj.plot_ettj(df, curva, data)"
   ]
  },
  {
   "cell_type": "code",
   "execution_count": null,
   "id": "e591db54",
   "metadata": {},
   "outputs": [],
   "source": []
  }
 ],
 "metadata": {
  "kernelspec": {
   "display_name": "estudo",
   "language": "python",
   "name": "python3"
  },
  "language_info": {
   "codemirror_mode": {
    "name": "ipython",
    "version": 3
   },
   "file_extension": ".py",
   "mimetype": "text/x-python",
   "name": "python",
   "nbconvert_exporter": "python",
   "pygments_lexer": "ipython3",
   "version": "3.9.20"
  }
 },
 "nbformat": 4,
 "nbformat_minor": 5
}
